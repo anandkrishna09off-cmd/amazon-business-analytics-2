{
 "cells": [
  {
   "cell_type": "markdown",
   "id": "21e26242",
   "metadata": {},
   "source": [
    "# Amazon Analysis — Business Impact Notebook\n",
    "\n",
    "Focus on:\n",
    "4) Repeat buyers by price buckets\n",
    "5) Potential churn signals (proxy)\n",
    "6) Seasonality (if dates available)\n",
    "\n",
    "**NOTE:** This notebook uses your dataset path exactly as requested."
   ]
  },
  {
   "cell_type": "code",
   "execution_count": 1,
   "id": "7bb8ce15",
   "metadata": {},
   "outputs": [
    {
     "name": "stdout",
     "output_type": "stream",
     "text": [
      "Rows: 1465\n",
      "Columns: ['product_id', 'product_name', 'category', 'discounted_price', 'actual_price', 'discount_percentage', 'rating', 'rating_count', 'about_product', 'user_id', 'user_name', 'review_id', 'review_title', 'review_content', 'img_link', 'product_link']\n"
     ]
    }
   ],
   "source": [
    "\n",
    "# --- Setup ---\n",
    "import pandas as pd\n",
    "import numpy as np\n",
    "import matplotlib.pyplot as plt\n",
    "import seaborn as sns\n",
    "\n",
    "sns.set(style=\"whitegrid\")\n",
    "\n",
    "# Path as requested by user\n",
    "DATA_PATH = r\"C:\\Users\\DELL\\Desktop\\DA PROJECT\\amazon.csv\"\n",
    "\n",
    "# Load\n",
    "df = pd.read_csv(DATA_PATH)\n",
    "\n",
    "print(\"Rows:\", len(df))\n",
    "print(\"Columns:\", list(df.columns))\n"
   ]
  },
  {
   "cell_type": "code",
   "execution_count": 2,
   "id": "ca7a8d91",
   "metadata": {},
   "outputs": [
    {
     "name": "stdout",
     "output_type": "stream",
     "text": [
      "   discounted_price  actual_price  discount_percentage  rating  rating_count\n",
      "0             399.0        1099.0                   64     4.2       24269.0\n",
      "1             199.0         349.0                   43     4.0       43994.0\n",
      "2             199.0        1899.0                   90     3.9        7928.0\n",
      "3             329.0         699.0                   53     4.2       94363.0\n",
      "4             154.0         399.0                   61     4.2       16905.0\n"
     ]
    }
   ],
   "source": [
    "\n",
    "# --- Cleaning numeric fields ---\n",
    "def _clean_num(s, rm_percent=False):\n",
    "    if pd.isna(s): return np.nan\n",
    "    s = str(s).replace(\"₹\",\"\").replace(\",\",\"\").strip()\n",
    "    if rm_percent:\n",
    "        s = s.replace(\"%\",\"\")\n",
    "    return pd.to_numeric(s, errors=\"coerce\")\n",
    "\n",
    "for col in [\"discounted_price\",\"actual_price\"]:\n",
    "    if col in df.columns:\n",
    "        df[col] = df[col].apply(_clean_num)\n",
    "\n",
    "if \"discount_percentage\" in df.columns:\n",
    "    df[\"discount_percentage\"] = df[\"discount_percentage\"].apply(lambda x: _clean_num(x, rm_percent=True))\n",
    "\n",
    "if \"rating\" in df.columns:\n",
    "    df[\"rating\"] = pd.to_numeric(df[\"rating\"], errors=\"coerce\")\n",
    "\n",
    "if \"rating_count\" in df.columns:\n",
    "    df[\"rating_count\"] = pd.to_numeric(df[\"rating_count\"].astype(str).replace({\",\":\"\"}, regex=True), errors=\"coerce\")\n",
    "\n",
    "# Basic integrity\n",
    "df = df.dropna(subset=[\"discounted_price\", \"actual_price\"])\n",
    "print(df[[\"discounted_price\",\"actual_price\",\"discount_percentage\",\"rating\",\"rating_count\"]].head())\n"
   ]
  },
  {
   "cell_type": "code",
   "execution_count": 4,
   "id": "77e758c1",
   "metadata": {},
   "outputs": [],
   "source": [
    "\n",
    "# --- Price Buckets ---\n",
    "bins = [0, 500, 1000, 5000, 10000, np.inf]\n",
    "labels = [\"0-500\",\"500-1000\",\"1000-5000\",\"5000-10000\",\"10000+\"]\n",
    "df[\"price_bucket\"] = pd.cut(df[\"discounted_price\"], bins=bins, labels=labels, include_lowest=True)\n",
    "df[\"price_bucket\"] = df[\"price_bucket\"].astype(str)\n",
    "df[\"is_discounted\"] = (df[\"discount_percentage\"].fillna(0) > 0) | (df[\"discounted_price\"] < df[\"actual_price\"])\n"
   ]
  },
  {
   "cell_type": "markdown",
   "id": "1df42dac",
   "metadata": {},
   "source": [
    "## 4) Repeat buyers by price buckets"
   ]
  },
  {
   "cell_type": "code",
   "execution_count": 5,
   "id": "d41a78f4",
   "metadata": {},
   "outputs": [
    {
     "name": "stdout",
     "output_type": "stream",
     "text": [
      "  price_bucket  users  repeat_rate\n",
      "2       10000+     68     0.338235\n",
      "0        0-500    447     0.154362\n",
      "1    1000-5000    383     0.086162\n",
      "4   5000-10000     75     0.066667\n",
      "3     500-1000    221     0.063348\n"
     ]
    },
    {
     "data": {
      "image/png": "[encoded data removed]",
      "text/plain": [
       "<Figure size 800x500 with 1 Axes>"
      ]
     },
     "metadata": {},
     "output_type": "display_data"
    }
   ],
   "source": [
    "\n",
    "# Proxy for repeat buyer: multiple reviews/purchases by same user_id\n",
    "assert \"user_id\" in df.columns, \"user_id column is required for this analysis.\"\n",
    "user_counts = df.groupby(\"user_id\").size().rename(\"purchase_count\").reset_index()\n",
    "repeat_users = set(user_counts[user_counts[\"purchase_count\"] > 1][\"user_id\"])\n",
    "\n",
    "# Primary price bucket per user = mode bucket of their purchases\n",
    "user_bucket = (df.groupby([\"user_id\",\"price_bucket\"]).size()\n",
    "                 .rename(\"cnt\").reset_index())\n",
    "user_bucket = user_bucket.sort_values([\"user_id\",\"cnt\"], ascending=[True, False])\n",
    "primary_bucket = user_bucket.groupby(\"user_id\").first().reset_index()[[\"user_id\",\"price_bucket\"]]\n",
    "\n",
    "primary_bucket[\"is_repeat\"] = primary_bucket[\"user_id\"].isin(repeat_users)\n",
    "bucket_stats = (primary_bucket\n",
    "                .groupby(\"price_bucket\")\n",
    "                .agg(users=(\"user_id\",\"nunique\"),\n",
    "                     repeat_rate=(\"is_repeat\", \"mean\"))\n",
    "                .reset_index()\n",
    "               )\n",
    "print(bucket_stats.sort_values(\"repeat_rate\", ascending=False))\n",
    "\n",
    "# Plot\n",
    "plt.figure(figsize=(8,5))\n",
    "sns.barplot(data=bucket_stats, x=\"price_bucket\", y=\"repeat_rate\", color=\"skyblue\")\n",
    "plt.title(\"Repeat Rate by Price Bucket (Primary User Bucket)\")\n",
    "plt.ylabel(\"Repeat Rate\")\n",
    "plt.xlabel(\"Price Bucket (₹)\")\n",
    "plt.ylim(0, 1)\n",
    "plt.show()\n"
   ]
  },
  {
   "cell_type": "markdown",
   "id": "4358d1bb",
   "metadata": {},
   "source": [
    "## 5) Potential Churn Signals (proxy)"
   ]
  },
  {
   "cell_type": "code",
   "execution_count": 6,
   "id": "fd6994b5",
   "metadata": {},
   "outputs": [
    {
     "name": "stdout",
     "output_type": "stream",
     "text": [
      "Flagged potential churn users: 355\n"
     ]
    },
    {
     "data": {
      "text/html": [
       "<div>\n",
       "<style scoped>\n",
       "    .dataframe tbody tr th:only-of-type {\n",
       "        vertical-align: middle;\n",
       "    }\n",
       "\n",
       "    .dataframe tbody tr th {\n",
       "        vertical-align: top;\n",
       "    }\n",
       "\n",
       "    .dataframe thead th {\n",
       "        text-align: right;\n",
       "    }\n",
       "</style>\n",
       "<table border=\"1\" class=\"dataframe\">\n",
       "  <thead>\n",
       "    <tr style=\"text-align: right;\">\n",
       "      <th></th>\n",
       "      <th>user_id</th>\n",
       "      <th>avg_price</th>\n",
       "      <th>ever_discounted</th>\n",
       "      <th>purchase_count</th>\n",
       "      <th>flag_churn</th>\n",
       "    </tr>\n",
       "  </thead>\n",
       "  <tbody>\n",
       "    <tr>\n",
       "      <th>0</th>\n",
       "      <td>AE22Y3KIS7SE6LI3HE2VS6WWPU4Q,AHWEYO2IJ5I5GDWZA...</td>\n",
       "      <td>239.0</td>\n",
       "      <td>True</td>\n",
       "      <td>1</td>\n",
       "      <td>True</td>\n",
       "    </tr>\n",
       "    <tr>\n",
       "      <th>2</th>\n",
       "      <td>AE242TR3GQ6TYC6W4SJ5UYYKBTYQ</td>\n",
       "      <td>399.0</td>\n",
       "      <td>True</td>\n",
       "      <td>1</td>\n",
       "      <td>True</td>\n",
       "    </tr>\n",
       "    <tr>\n",
       "      <th>7</th>\n",
       "      <td>AE2TSJXRS5BXE6X7WFS7HOFJKCOQ,AEQTFT2S7RDVYEGOX...</td>\n",
       "      <td>230.0</td>\n",
       "      <td>True</td>\n",
       "      <td>1</td>\n",
       "      <td>True</td>\n",
       "    </tr>\n",
       "    <tr>\n",
       "      <th>11</th>\n",
       "      <td>AE35OI7LDTOKU32IFQ3GQX5AOKFQ,AHT5CRFFKABTHYW4E...</td>\n",
       "      <td>448.0</td>\n",
       "      <td>True</td>\n",
       "      <td>1</td>\n",
       "      <td>True</td>\n",
       "    </tr>\n",
       "    <tr>\n",
       "      <th>12</th>\n",
       "      <td>AE376Y5V3WTFCERMS7ZVYUZCFNUQ,AF5GSV6GVHTLGBTN2...</td>\n",
       "      <td>469.0</td>\n",
       "      <td>True</td>\n",
       "      <td>1</td>\n",
       "      <td>True</td>\n",
       "    </tr>\n",
       "    <tr>\n",
       "      <th>13</th>\n",
       "      <td>AE3DRCI3U5PRSINPY2TZAU6JEWBA,AEOSTNYHDXDWBNGEZ...</td>\n",
       "      <td>499.0</td>\n",
       "      <td>True</td>\n",
       "      <td>1</td>\n",
       "      <td>True</td>\n",
       "    </tr>\n",
       "    <tr>\n",
       "      <th>14</th>\n",
       "      <td>AE3GJ4N2G2K4Q6JXYPIQSH4344CQ,AFJMCZWWZZF4HZYT5...</td>\n",
       "      <td>199.0</td>\n",
       "      <td>True</td>\n",
       "      <td>1</td>\n",
       "      <td>True</td>\n",
       "    </tr>\n",
       "    <tr>\n",
       "      <th>15</th>\n",
       "      <td>AE3JIMEZHC22EA7YZAUQF7VOUIFQ,AEHZS2RWOOR6UFKXA...</td>\n",
       "      <td>89.0</td>\n",
       "      <td>True</td>\n",
       "      <td>1</td>\n",
       "      <td>True</td>\n",
       "    </tr>\n",
       "    <tr>\n",
       "      <th>16</th>\n",
       "      <td>AE3PTJFRVU3YM5YFYN3ICDA5X6FA,AGF5DMXE65QXZPJX6...</td>\n",
       "      <td>479.0</td>\n",
       "      <td>True</td>\n",
       "      <td>1</td>\n",
       "      <td>True</td>\n",
       "    </tr>\n",
       "    <tr>\n",
       "      <th>18</th>\n",
       "      <td>AE3S2ZAEMH765KUJ57DR6HBZBB3Q,AHSIVUNTJMI5S5AJG...</td>\n",
       "      <td>272.0</td>\n",
       "      <td>True</td>\n",
       "      <td>1</td>\n",
       "      <td>True</td>\n",
       "    </tr>\n",
       "  </tbody>\n",
       "</table>\n",
       "</div>"
      ],
      "text/plain": [
       "                                              user_id  avg_price  \\\n",
       "0   AE22Y3KIS7SE6LI3HE2VS6WWPU4Q,AHWEYO2IJ5I5GDWZA...      239.0   \n",
       "2                        AE242TR3GQ6TYC6W4SJ5UYYKBTYQ      399.0   \n",
       "7   AE2TSJXRS5BXE6X7WFS7HOFJKCOQ,AEQTFT2S7RDVYEGOX...      230.0   \n",
       "11  AE35OI7LDTOKU32IFQ3GQX5AOKFQ,AHT5CRFFKABTHYW4E...      448.0   \n",
       "12  AE376Y5V3WTFCERMS7ZVYUZCFNUQ,AF5GSV6GVHTLGBTN2...      469.0   \n",
       "13  AE3DRCI3U5PRSINPY2TZAU6JEWBA,AEOSTNYHDXDWBNGEZ...      499.0   \n",
       "14  AE3GJ4N2G2K4Q6JXYPIQSH4344CQ,AFJMCZWWZZF4HZYT5...      199.0   \n",
       "15  AE3JIMEZHC22EA7YZAUQF7VOUIFQ,AEHZS2RWOOR6UFKXA...       89.0   \n",
       "16  AE3PTJFRVU3YM5YFYN3ICDA5X6FA,AGF5DMXE65QXZPJX6...      479.0   \n",
       "18  AE3S2ZAEMH765KUJ57DR6HBZBB3Q,AHSIVUNTJMI5S5AJG...      272.0   \n",
       "\n",
       "    ever_discounted  purchase_count  flag_churn  \n",
       "0              True               1        True  \n",
       "2              True               1        True  \n",
       "7              True               1        True  \n",
       "11             True               1        True  \n",
       "12             True               1        True  \n",
       "13             True               1        True  \n",
       "14             True               1        True  \n",
       "15             True               1        True  \n",
       "16             True               1        True  \n",
       "18             True               1        True  "
      ]
     },
     "metadata": {},
     "output_type": "display_data"
    }
   ],
   "source": [
    "\n",
    "# Definition: one-purchase users + discounted + low price (<= ₹500)\n",
    "low_threshold = 500\n",
    "one_purchase_users = set(user_counts[user_counts[\"purchase_count\"] == 1][\"user_id\"])\n",
    "\n",
    "# Avg price and ever-discounted per user\n",
    "avg_price = df.groupby(\"user_id\")[\"discounted_price\"].mean().rename(\"avg_price\")\n",
    "ever_disc = df.groupby(\"user_id\")[\"is_discounted\"].any().rename(\"ever_discounted\")\n",
    "churn_df = pd.concat([avg_price, ever_disc], axis=1).reset_index()\n",
    "churn_df[\"purchase_count\"] = churn_df[\"user_id\"].map(dict(zip(user_counts[\"user_id\"], user_counts[\"purchase_count\"])))\n",
    "churn_df[\"flag_churn\"] = (churn_df[\"purchase_count\"] == 1) & (churn_df[\"ever_discounted\"] == True) & (churn_df[\"avg_price\"] <= low_threshold)\n",
    "\n",
    "flagged = churn_df[churn_df[\"flag_churn\"] == True]\n",
    "print(\"Flagged potential churn users:\", len(flagged))\n",
    "display(flagged.head(10))\n",
    "\n",
    "# Save for CRM targeting\n",
    "flagged.to_csv(\"potential_churn_users.csv\", index=False)\n"
   ]
  },
  {
   "cell_type": "markdown",
   "id": "15b0506c",
   "metadata": {},
   "source": [
    "## 6) Seasonality (if dates available)"
   ]
  },
  {
   "cell_type": "code",
   "execution_count": 7,
   "id": "99e20602",
   "metadata": {},
   "outputs": [
    {
     "name": "stdout",
     "output_type": "stream",
     "text": [
      "No date column found. Seasonality analysis is skipped.\n"
     ]
    }
   ],
   "source": [
    "\n",
    "# If the dataset has a purchase/review date column, plot monthly volume.\n",
    "date_col = None\n",
    "for c in df.columns:\n",
    "    if \"date\" in c.lower():\n",
    "        date_col = c\n",
    "        break\n",
    "\n",
    "if date_col is None:\n",
    "    print(\"No date column found. Seasonality analysis is skipped.\")\n",
    "else:\n",
    "    df[\"_date\"] = pd.to_datetime(df[date_col], errors=\"coerce\")\n",
    "    monthly = df.dropna(subset=[\"_date\"]).groupby(pd.Grouper(key=\"_date\", freq=\"M\")).size().rename(\"events\").reset_index()\n",
    "    print(monthly.head())\n",
    "\n",
    "    plt.figure(figsize=(10,4))\n",
    "    plt.plot(monthly[\"_date\"], monthly[\"events\"])\n",
    "    plt.title(\"Monthly Activity (proxied by rows)\")\n",
    "    plt.xlabel(\"Month\")\n",
    "    plt.ylabel(\"Count\")\n",
    "    plt.tight_layout()\n",
    "    plt.show()\n"
   ]
  },
  {
   "cell_type": "code",
   "execution_count": null,
   "id": "5b811d00-5500-4940-b493-a6b0442d44b2",
   "metadata": {},
   "outputs": [],
   "source": []
  }
 ],
 "metadata": {
  "kernelspec": {
   "display_name": "Python 3 (ipykernel)",
   "language": "python",
   "name": "python3"
  },
  "language_info": {
   "codemirror_mode": {
    "name": "ipython",
    "version": 3
   },
   "file_extension": ".py",
   "mimetype": "text/x-python",
   "name": "python",
   "nbconvert_exporter": "python",
   "pygments_lexer": "ipython3",
   "version": "3.13.7"
  }
 },
 "nbformat": 4,
 "nbformat_minor": 5
}
